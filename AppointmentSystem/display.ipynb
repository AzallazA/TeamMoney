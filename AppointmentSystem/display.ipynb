{
 "cells": [
  {
   "cell_type": "code",
   "execution_count": 2,
   "metadata": {},
   "outputs": [
    {
     "ename": "ModuleNotFoundError",
     "evalue": "No module named 'pyttsx3'",
     "output_type": "error",
     "traceback": [
      "\u001b[1;31m---------------------------------------------------------------------------\u001b[0m",
      "\u001b[1;31mModuleNotFoundError\u001b[0m                       Traceback (most recent call last)",
      "\u001b[1;32m<ipython-input-2-a77798369cea>\u001b[0m in \u001b[0;36m<module>\u001b[1;34m\u001b[0m\n\u001b[0;32m      1\u001b[0m \u001b[1;32mfrom\u001b[0m \u001b[0mtkinter\u001b[0m \u001b[1;32mimport\u001b[0m \u001b[1;33m*\u001b[0m\u001b[1;33m\u001b[0m\u001b[1;33m\u001b[0m\u001b[0m\n\u001b[0;32m      2\u001b[0m \u001b[1;32mimport\u001b[0m \u001b[0msqlite3\u001b[0m\u001b[1;33m\u001b[0m\u001b[1;33m\u001b[0m\u001b[0m\n\u001b[1;32m----> 3\u001b[1;33m \u001b[1;32mimport\u001b[0m \u001b[0mpyttsx3\u001b[0m\u001b[1;33m\u001b[0m\u001b[1;33m\u001b[0m\u001b[0m\n\u001b[0m\u001b[0;32m      4\u001b[0m \u001b[1;33m\u001b[0m\u001b[0m\n\u001b[0;32m      5\u001b[0m \u001b[1;31m# connection to database\u001b[0m\u001b[1;33m\u001b[0m\u001b[1;33m\u001b[0m\u001b[1;33m\u001b[0m\u001b[0m\n",
      "\u001b[1;31mModuleNotFoundError\u001b[0m: No module named 'pyttsx3'"
     ]
    }
   ],
   "source": [
    "from tkinter import *\n",
    "import sqlite3\n",
    "import pyttsx3\n",
    "\n",
    "# connection to database\n",
    "conn = sqlite3.connect('database.db')\n",
    "c = conn.cursor()\n",
    "\n",
    "# empty lists to append later\n",
    "number = []\n",
    "patients = []\n",
    "\n",
    "sql = \"SELECT * FROM appointments\"\n",
    "res = c.execute(sql)\n",
    "for r in res:\n",
    "    ids = r[0]\n",
    "    name = r[1]\n",
    "    number.append(ids)\n",
    "    patients.append(name)\n",
    "\n",
    "# window\n",
    "class Application:\n",
    "    def __init__(self, master):\n",
    "        self.master = master\n",
    "\n",
    "        self.x = 0\n",
    "        \n",
    "        # heading\n",
    "        self.heading = Label(master, text=\"Appointments\", font=('arial 60 bold'), fg='green')\n",
    "        self.heading.place(x=350, y=0)\n",
    "\n",
    "        # button to change patients\n",
    "        self.change = Button(master, text=\"Next Patient\", width=25, height=2, bg='steelblue', command=self.func)\n",
    "        self.change.place(x=500, y=600)\n",
    "\n",
    "        # empty text labels to later config\n",
    "        self.n = Label(master, text=\"\", font=('arial 200 bold'))\n",
    "        self.n.place(x=500, y=100)\n",
    "\n",
    "        self.pname = Label(master, text=\"\", font=('arial 80 bold'))\n",
    "        self.pname.place(x=300, y=400)\n",
    "    # function to speak the text and update the text\n",
    "    def func(self):\n",
    "        self.n.config(text=str(number[self.x]))\n",
    "        self.pname.config(text=str(patients[self.x]))\n",
    "        engine = pyttsx3.init()\n",
    "        voices = engine.getProperty('voices')\n",
    "        rate = engine.getProperty('rate')\n",
    "        engine.setProperty('rate', rate-50)\n",
    "        engine.say('Patient number ' + str(number[self.x]) + str(patients[self.x]))\n",
    "        engine.runAndWait()\n",
    "        self.x += 1\n",
    "root = Tk()\n",
    "b = Application(root)\n",
    "root.geometry(\"1366x768+0+0\")\n",
    "root.resizable(False, False)\n",
    "root.mainloop()\n"
   ]
  }
 ],
 "metadata": {
  "kernelspec": {
   "display_name": "Python 3",
   "language": "python",
   "name": "python3"
  },
  "language_info": {
   "codemirror_mode": {
    "name": "ipython",
    "version": 3
   },
   "file_extension": ".py",
   "mimetype": "text/x-python",
   "name": "python",
   "nbconvert_exporter": "python",
   "pygments_lexer": "ipython3",
   "version": "3.7.3"
  }
 },
 "nbformat": 4,
 "nbformat_minor": 2
}
